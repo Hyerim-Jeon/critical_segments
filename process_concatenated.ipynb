{
 "cells": [
  {
   "cell_type": "code",
   "execution_count": 16,
   "id": "65ed3cbd",
   "metadata": {},
   "outputs": [],
   "source": [
    "import numpy as np\n",
    "import json\n",
    "import pandas as pd\n",
    "import matplotlib.pyplot as plt"
   ]
  },
  {
   "cell_type": "code",
   "execution_count": 4,
   "id": "a8da2ea3",
   "metadata": {},
   "outputs": [],
   "source": [
    "def json_to_csv(filename):\n",
    "    # JSON 파일 로드 (예: 'data.json'이라는 JSON 파일)\n",
    "    json_filename = f\"{filename}.json\"\n",
    "    with open(json_filename, 'r') as file:\n",
    "        data = json.load(file)\n",
    "\n",
    "    # 데이터를 저장할 리스트 초기화\n",
    "    rows = []\n",
    "\n",
    "    # JSON 데이터를 반복하며 테이블 구조로 변환\n",
    "    for record in data:\n",
    "        performance_id = record.get(\"performance_id\", None)\n",
    "        start_bar = record.get(\"start_bar\", None)\n",
    "        end_bar = record.get(\"end_bar\", None)\n",
    "        yhat = record.get(\"yhat\", [])\n",
    "\n",
    "        # yhat은 [bar1_values, bar2_values, ..., barN_values] 형태\n",
    "        for bar_idx, bar_values in enumerate(yhat, start=start_bar):  # bar 시작 번호부터 반복\n",
    "            for feature_idx, value in enumerate(bar_values):  # 각 feature 값\n",
    "                row = {\n",
    "                    \"performance_id\": performance_id,\n",
    "                    \"bar\": bar_idx,\n",
    "                    \"feature_idx\": feature_idx,\n",
    "                    \"value\": value\n",
    "                }\n",
    "                rows.append(row)\n",
    "\n",
    "    # DataFrame으로 변환\n",
    "    df = pd.DataFrame(rows)\n",
    "\n",
    "    # 결과 출력\n",
    "    print(df)\n",
    "\n",
    "    # CSV로 저장\n",
    "    csv_filename = f\"{filename}.csv\"\n",
    "    df.to_csv(csv_filename, index=False)"
   ]
  },
  {
   "cell_type": "code",
   "execution_count": 5,
   "id": "fe3a9ae1",
   "metadata": {},
   "outputs": [
    {
     "name": "stdout",
     "output_type": "stream",
     "text": [
      "                                           performance_id  bar  feature_idx  \\\n",
      "0       MIDI-Unprocessed_082_PIANO082_MID--AUDIO-split...    0            0   \n",
      "1       MIDI-Unprocessed_082_PIANO082_MID--AUDIO-split...    0            1   \n",
      "2       MIDI-Unprocessed_082_PIANO082_MID--AUDIO-split...    0            2   \n",
      "3       MIDI-Unprocessed_082_PIANO082_MID--AUDIO-split...    0            3   \n",
      "4       MIDI-Unprocessed_082_PIANO082_MID--AUDIO-split...    0            4   \n",
      "...                                                   ...  ...          ...   \n",
      "195182  MIDI-Unprocessed_R1_D1-9-12_mid--AUDIO-from_mp...   78           14   \n",
      "195183  MIDI-Unprocessed_R1_D1-9-12_mid--AUDIO-from_mp...   78           15   \n",
      "195184  MIDI-Unprocessed_R1_D1-9-12_mid--AUDIO-from_mp...   78           16   \n",
      "195185  MIDI-Unprocessed_R1_D1-9-12_mid--AUDIO-from_mp...   78           17   \n",
      "195186  MIDI-Unprocessed_R1_D1-9-12_mid--AUDIO-from_mp...   78           18   \n",
      "\n",
      "           value  \n",
      "0       0.431136  \n",
      "1       0.461007  \n",
      "2       0.513808  \n",
      "3       0.532854  \n",
      "4       0.452277  \n",
      "...          ...  \n",
      "195182  0.484559  \n",
      "195183  0.512395  \n",
      "195184  0.396996  \n",
      "195185  0.335320  \n",
      "195186  0.491220  \n",
      "\n",
      "[195187 rows x 4 columns]\n"
     ]
    }
   ],
   "source": [
    "name = \"concatenated_v1\"\n",
    "json_to_csv(name)"
   ]
  },
  {
   "cell_type": "code",
   "execution_count": 21,
   "id": "f1113657",
   "metadata": {},
   "outputs": [
    {
     "data": {
      "image/png": "[encoded data removed]",
      "text/plain": [
       "<Figure size 720x432 with 1 Axes>"
      ]
     },
     "metadata": {
      "needs_background": "light"
     },
     "output_type": "display_data"
    }
   ],
   "source": [
    "\n",
    "# CSV 파일 읽기 (예: 'data.csv')\n",
    "file_path = 'concatenated_v1.csv'\n",
    "df = pd.read_csv(file_path)\n",
    "\n",
    "# 특정 열 선택 (예: 'column_name'이라는 열)\n",
    "column_name = 'value'  # 분석하고 싶은 열 이름\n",
    "data = df[column_name]\n",
    "\n",
    "# 분포 그래프(히스토그램) 그리기\n",
    "plt.figure(figsize=(10, 6))\n",
    "plt.hist(data, bins=100, color='skyblue', edgecolor='black', alpha=0.7)\n",
    "\n",
    "plt.title(f\"Distribution of {column_name}\", fontsize=16)\n",
    "plt.xlabel(column_name, fontsize=14)\n",
    "plt.ylabel(\"Frequency\", fontsize=14)\n",
    "plt.grid(axis='y', alpha=0.75)\n",
    "\n",
    "# 그래프 출력\n",
    "plt.show()"
   ]
  },
  {
   "cell_type": "code",
   "execution_count": 31,
   "id": "25007cef",
   "metadata": {},
   "outputs": [
    {
     "name": "stdout",
     "output_type": "stream",
     "text": [
      "0.5062544728324984\n",
      "0.05244026795735639\n",
      "0.6111350087472112\n",
      "Lower Threshold: 0.39\n",
      "Upper Threshold: 0.63\n"
     ]
    }
   ],
   "source": [
    "# 평균과 표준편차 계산\n",
    "mean = np.mean(data)\n",
    "std_dev = np.std(data)\n",
    "\n",
    "print(mean)\n",
    "print(std_dev)\n",
    "\n",
    "#임계값 설정 (k = 2, 평균 ± 2 * 표준편차)\n",
    "k = 2\n",
    "threshold = mean + k * std_dev\n",
    "\n",
    "print(threshold)\n",
    "\n",
    "q1, q3 = np.percentile(data, [25, 75])\n",
    "iqr = q3 - q1\n",
    "l = 1\n",
    "lower_threshold = q1 - l * iqr\n",
    "upper_threshold = q3 + l * iqr\n",
    "\n",
    "print(f\"Lower Threshold: {lower_threshold:.2f}\")\n",
    "print(f\"Upper Threshold: {upper_threshold:.2f}\")"
   ]
  },
  {
   "cell_type": "code",
   "execution_count": 32,
   "id": "47f9a68d",
   "metadata": {},
   "outputs": [
    {
     "data": {
      "image/png": "[encoded data removed]",
      "text/plain": [
       "<Figure size 720x432 with 1 Axes>"
      ]
     },
     "metadata": {
      "needs_background": "light"
     },
     "output_type": "display_data"
    }
   ],
   "source": [
    "# 분포 그래프(히스토그램) 그리기\n",
    "plt.figure(figsize=(10, 6))\n",
    "plt.hist(data, bins=100, color='skyblue', edgecolor='black', alpha=0.7)\n",
    "\n",
    "# 임계값 표시\n",
    "plt.axvline(mean, color='green', linestyle='--', linewidth=2, label=\"Mean\")\n",
    "plt.axvline(threshold, color='red', linestyle='--', linewidth=2, label=f\"std Threshold ({threshold:.2f})\")\n",
    "plt.axvline(upper_threshold, color='orange', linestyle='--', linewidth=2, label=f\"Q3 Threshold ({upper_threshold:.2f})\")\n",
    "\n",
    "plt.title(f\"Distribution of {column_name}\", fontsize=16)\n",
    "plt.xlabel(column_name, fontsize=14)\n",
    "plt.ylabel(\"Frequency\", fontsize=14)\n",
    "plt.grid(axis='y', alpha=0.75)\n",
    "\n",
    "# 그래프 출력\n",
    "plt.show()"
   ]
  },
  {
   "cell_type": "code",
   "execution_count": 33,
   "id": "a61d91f8",
   "metadata": {},
   "outputs": [
    {
     "name": "stdout",
     "output_type": "stream",
     "text": [
      "0.6111350087472112\n",
      "                                           performance_id  bar  feature_idx  \\\n",
      "28      MIDI-Unprocessed_082_PIANO082_MID--AUDIO-split...    1            9   \n",
      "63      MIDI-Unprocessed_082_PIANO082_MID--AUDIO-split...    3            6   \n",
      "291     MIDI-Unprocessed_082_PIANO082_MID--AUDIO-split...   15            6   \n",
      "310     MIDI-Unprocessed_082_PIANO082_MID--AUDIO-split...   16            6   \n",
      "386     MIDI-Unprocessed_082_PIANO082_MID--AUDIO-split...   20            6   \n",
      "...                                                   ...  ...          ...   \n",
      "193827  MIDI-Unprocessed_R1_D1-9-12_mid--AUDIO-from_mp...   22            8   \n",
      "193922  MIDI-Unprocessed_R1_D1-9-12_mid--AUDIO-from_mp...   22            8   \n",
      "194150  MIDI-Unprocessed_R1_D1-9-12_mid--AUDIO-from_mp...   34            8   \n",
      "194188  MIDI-Unprocessed_R1_D1-9-12_mid--AUDIO-from_mp...   36            8   \n",
      "194359  MIDI-Unprocessed_R1_D1-9-12_mid--AUDIO-from_mp...   45            8   \n",
      "\n",
      "           value  \n",
      "28      0.613972  \n",
      "63      0.618356  \n",
      "291     0.611553  \n",
      "310     0.618272  \n",
      "386     0.611489  \n",
      "...          ...  \n",
      "193827  0.640119  \n",
      "193922  0.654144  \n",
      "194150  0.618600  \n",
      "194188  0.612188  \n",
      "194359  0.617207  \n",
      "\n",
      "[2356 rows x 4 columns]\n"
     ]
    }
   ],
   "source": [
    "# CSV 파일 읽기\n",
    "file_path = 'concatenated_v1.csv'\n",
    "df = pd.read_csv(file_path)\n",
    "\n",
    "# 특정 열과 임계값 설정\n",
    "column_name = 'value'  # 임계값 필터링에 사용할 열 이름\n",
    "print(threshold)              # 임계값\n",
    "\n",
    "# 임계값을 넘는 행만 필터링\n",
    "filtered_df = df[df[column_name] > threshold]\n",
    "\n",
    "# 필터링 결과 출력\n",
    "print(filtered_df)\n",
    "\n",
    "# 필터링된 결과를 새로운 CSV 파일로 저장\n",
    "filtered_filename = f\"filtered_{file_path}\"\n",
    "filtered_df.to_csv(filtered_filename, index=False)"
   ]
  },
  {
   "cell_type": "code",
   "execution_count": 34,
   "id": "11c550f8",
   "metadata": {},
   "outputs": [
    {
     "name": "stdout",
     "output_type": "stream",
     "text": [
      "6     1115\n",
      "9      665\n",
      "8      193\n",
      "16     187\n",
      "12      78\n",
      "15      48\n",
      "3       48\n",
      "2       14\n",
      "5        8\n",
      "Name: feature_idx, dtype: int64\n"
     ]
    }
   ],
   "source": [
    "# CSV 파일 읽기\n",
    "file_path = 'filtered_concatenated_v1.csv'\n",
    "df = pd.read_csv(file_path)\n",
    "\n",
    "# 특정 열 선택 (예: 'target_column')\n",
    "column_name = 'feature_idx'\n",
    "\n",
    "# 값의 빈도 계산\n",
    "value_counts = df[column_name].value_counts()\n",
    "\n",
    "# 결과 출력\n",
    "print(value_counts)"
   ]
  },
  {
   "cell_type": "code",
   "execution_count": null,
   "id": "505dbf68",
   "metadata": {},
   "outputs": [],
   "source": []
  }
 ],
 "metadata": {
  "kernelspec": {
   "display_name": "Python 3",
   "language": "python",
   "name": "python3"
  },
  "language_info": {
   "codemirror_mode": {
    "name": "ipython",
    "version": 3
   },
   "file_extension": ".py",
   "mimetype": "text/x-python",
   "name": "python",
   "nbconvert_exporter": "python",
   "pygments_lexer": "ipython3",
   "version": "3.6.9"
  }
 },
 "nbformat": 4,
 "nbformat_minor": 5
}
