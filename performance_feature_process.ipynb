{
 "cells": [
  {
   "cell_type": "code",
   "execution_count": 1,
   "id": "927ea633",
   "metadata": {},
   "outputs": [],
   "source": [
    "import pandas as pd\n",
    "import os"
   ]
  },
  {
   "cell_type": "code",
   "execution_count": 42,
   "id": "60046917",
   "metadata": {},
   "outputs": [],
   "source": [
    "# 1. 데이터 불러오기\n",
    "df = pd.read_csv('shap_v5.csv')"
   ]
  },
  {
   "cell_type": "code",
   "execution_count": 43,
   "id": "a7feeab3",
   "metadata": {},
   "outputs": [],
   "source": [
    "# 2. feature_idx를 feature_1 ~ feature_19로 변환, value 7 degree\n",
    "df['feature_name'] = df['feature'].apply(lambda x: f'feature_{x}')\n",
    "df['feature_value'] = df['feature_value'] * 7"
   ]
  },
  {
   "cell_type": "code",
   "execution_count": 44,
   "id": "30e20b55",
   "metadata": {},
   "outputs": [],
   "source": [
    "\n",
    "# 3. (performance_id, bar) 단위로 pivot\n",
    "pivot_df = df.pivot_table(index=['pid', 'measure'], \n",
    "                          columns='feature_name', \n",
    "                          values='feature_value').reset_index()\n"
   ]
  },
  {
   "cell_type": "code",
   "execution_count": 45,
   "id": "8c101916",
   "metadata": {},
   "outputs": [],
   "source": [
    "\n",
    "# 4. performance_id별로 나눠서 저장\n",
    "output_dir = 'shap_v5'\n",
    "os.makedirs(output_dir, exist_ok=True)\n"
   ]
  },
  {
   "cell_type": "code",
   "execution_count": 46,
   "id": "ac2aa9b7",
   "metadata": {},
   "outputs": [],
   "source": [
    "# 5. 열 순서를 feature_1, feature_2, ..., feature_19 순서로 재정렬\n",
    "feature_cols = [f'feature_{i}' for i in range(1, 20)]\n",
    "pivot_df = pivot_df[['pid', 'measure'] + feature_cols]"
   ]
  },
  {
   "cell_type": "code",
   "execution_count": 47,
   "id": "50baebc4",
   "metadata": {},
   "outputs": [
    {
     "name": "stdout",
     "output_type": "stream",
     "text": [
      "✅ 모든 performance_id 별로 csv 파일 저장 완료!\n"
     ]
    }
   ],
   "source": [
    "for pid, group in pivot_df.groupby('pid'):\n",
    "    # performance_id 값에서 파일명에 안 맞는 특수문자 제거하고 싶으면 추가할 수 있음\n",
    "    filename = os.path.join(output_dir, f'shap_{pid}.csv')\n",
    "    group.drop(columns='pid').to_csv(filename, index=False)\n",
    "\n",
    "print(\"✅ 모든 performance_id 별로 csv 파일 저장 완료!\")"
   ]
  },
  {
   "cell_type": "code",
   "execution_count": null,
   "id": "e0d65acf",
   "metadata": {},
   "outputs": [],
   "source": []
  }
 ],
 "metadata": {
  "kernelspec": {
   "display_name": "Python 3",
   "language": "python",
   "name": "python3"
  },
  "language_info": {
   "codemirror_mode": {
    "name": "ipython",
    "version": 3
   },
   "file_extension": ".py",
   "mimetype": "text/x-python",
   "name": "python",
   "nbconvert_exporter": "python",
   "pygments_lexer": "ipython3",
   "version": "3.6.9"
  }
 },
 "nbformat": 4,
 "nbformat_minor": 5
}
