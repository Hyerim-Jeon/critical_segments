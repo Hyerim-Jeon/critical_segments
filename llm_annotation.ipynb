{
 "cells": [
  {
   "cell_type": "code",
   "execution_count": null,
   "id": "783efc0e",
   "metadata": {},
   "outputs": [],
   "source": [
    "# Install langchain\n",
    "!pip install --upgrade --quiet  langchain langchain-community langchainhub langchain-openai langchain-chroma bs4"
   ]
  },
  {
   "cell_type": "code",
   "execution_count": null,
   "id": "e61a77c6",
   "metadata": {},
   "outputs": [],
   "source": [
    "# Set API key\n",
    "OPENAI_API_KEY=\"\""
   ]
  },
  {
   "cell_type": "code",
   "execution_count": null,
   "id": "f22ea6d1",
   "metadata": {},
   "outputs": [],
   "source": [
    "# example value\n",
    "\n",
    "segment = \"Measures 20–25\"\n",
    "feature = \"Dynamic\"\n",
    "description = \"1 = Narrow range, 7 = Wide range\"\n",
    "performance_avg = 4.1\n",
    "guideline_avg = 6.8\n",
    "shap_mean = -0.81\n"
   ]
  },
  {
   "cell_type": "code",
   "execution_count": null,
   "id": "23a577af",
   "metadata": {},
   "outputs": [],
   "source": [
    "# prompt\n",
    "\n",
    "prompt_template = f\"\"\"\n",
    "You are a music expert to assist piano performance.\n",
    "Based on the performance analysis below, write a short and actionable feedback annotation sentence.\n",
    "\n",
    "Segment: {segment}\n",
    "Feature: {feature} ({description})\n",
    "Performance average: {performance_avg}\n",
    "Guideline average: {guideline_avg}\n",
    "SHAP mean: {shap_mean}\n",
    "\n",
    "The output should start with segment information like 'Measures $-$: ' and highlight what the performer did differently compared to the guideline, and suggest how to improve. ( Do not mention guidelines or actual values.)\n",
    "\n",
    "Annotation Example:\n",
    "Measures 10–15: The tempo in this section is more rigid than expected. Consider introducing more flexibility in phrasing to align better with expressive expectations and enhance the musical flow.\n",
    "\n",
    "Annotation:\n",
    "\"\"\""
   ]
  },
  {
   "cell_type": "code",
   "execution_count": null,
   "id": "b5f0ed91",
   "metadata": {},
   "outputs": [],
   "source": [
    "from langchain.chat_models import ChatOpenAI\n",
    "from langchain.schema import HumanMessage, SystemMessage\n",
    "\n",
    "# LLM 객체 생성\n",
    "llm = ChatOpenAI(model=\"gpt-4o-mini\", temperature=0.2, api_key=OPENAI_API_KEY)\n",
    "\n",
    "# 메시지 구성\n",
    "messages = [\n",
    "    SystemMessage(content=\"You are a helpful music performance assistant.\"),\n",
    "    HumanMessage(content=prompt_template)\n",
    "]\n",
    "\n",
    "# 응답 생성\n",
    "response = llm(messages)\n",
    "\n",
    "# 결과 출력\n",
    "print(response.content)\n"
   ]
  },
  {
   "cell_type": "code",
   "execution_count": null,
   "id": "3ae5be04",
   "metadata": {},
   "outputs": [],
   "source": []
  }
 ],
 "metadata": {
  "kernelspec": {
   "display_name": "Python 3",
   "language": "python",
   "name": "python3"
  },
  "language_info": {
   "codemirror_mode": {
    "name": "ipython",
    "version": 3
   },
   "file_extension": ".py",
   "mimetype": "text/x-python",
   "name": "python",
   "nbconvert_exporter": "python",
   "pygments_lexer": "ipython3",
   "version": "3.6.9"
  }
 },
 "nbformat": 4,
 "nbformat_minor": 5
}
