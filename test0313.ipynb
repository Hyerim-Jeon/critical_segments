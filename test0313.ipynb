{
 "cells": [
  {
   "cell_type": "code",
   "execution_count": 1,
   "id": "b0a118f2",
   "metadata": {},
   "outputs": [],
   "source": [
    "import pandas as pd\n",
    "\n"
   ]
  },
  {
   "cell_type": "code",
   "execution_count": 10,
   "id": "92d2df45",
   "metadata": {},
   "outputs": [],
   "source": [
    "def process_and_match(file1_path, file2_path, output_path):\n",
    "    # 첫 번째 파일 읽기\n",
    "    df1 = pd.read_csv(file1_path)\n",
    "\n",
    "    # 두 번째 파일 읽기\n",
    "    df2 = pd.read_csv(file2_path)\n",
    "\n",
    "    # 결과를 저장할 데이터프레임 생성\n",
    "    result_rows = []\n",
    "\n",
    "    # 첫 번째 파일의 각 행을 순회하며 measure 범위와 feature를 추출\n",
    "    for _, row in df1.iterrows():\n",
    "        name = row['name']\n",
    "        feature = row['important_feature']\n",
    "        start = row['interval_start']\n",
    "        end = row['interval_end']\n",
    "\n",
    "        for measure in range(start, end + 1):\n",
    "            # 두 번째 파일에서 일치하는 measure와 feature 필터링\n",
    "            match_df = df2[(df2['measure'] == measure) & (df2['feature'] == feature)]\n",
    "\n",
    "            if not match_df.empty:\n",
    "                # 일치하는 데이터가 있는 경우\n",
    "                for _, match_row in match_df.iterrows():\n",
    "                    result_rows.append([\n",
    "                        match_row['measure'],\n",
    "                        match_row['feature'],\n",
    "                        match_row['feature_value']\n",
    "                    ])\n",
    "            else:\n",
    "                # 일치하는 데이터가 없는 경우\n",
    "                result_rows.append([measure, feature, 'null'])\n",
    "\n",
    "    # 결과 데이터프레임으로 변환\n",
    "    result_df = pd.DataFrame(result_rows, columns=['measure', 'feature', 'feature_value'])\n",
    "    print(result_df)\n",
    "    \n",
    "    # critical_score 계산\n",
    "    critical_score_df = result_df.groupby(['measure', 'feature', 'feature_value']).size().reset_index(name='critical_score')\n",
    "\n",
    "    # 결과를 CSV 파일로 저장\n",
    "    critical_score_df.to_csv(output_path, index=False)\n",
    "    print(f'Result saved to {output_path}')"
   ]
  },
  {
   "cell_type": "code",
   "execution_count": 11,
   "id": "2b9ba9ca",
   "metadata": {},
   "outputs": [
    {
     "name": "stdout",
     "output_type": "stream",
     "text": [
      "      measure  feature feature_value\n",
      "0        39.0      1.0      0.666667\n",
      "1        40.0      1.0      0.666667\n",
      "2        41.0      1.0      0.666667\n",
      "3        42.0      1.0      0.666667\n",
      "4        40.0      1.0      0.666667\n",
      "...       ...      ...           ...\n",
      "1046     43.0     18.0             1\n",
      "1047     41.0     18.0             1\n",
      "1048     42.0     18.0             1\n",
      "1049     43.0     18.0             1\n",
      "1050     44.0     18.0             1\n",
      "\n",
      "[1051 rows x 3 columns]\n",
      "Result saved to test_result.csv\n"
     ]
    }
   ],
   "source": [
    "\n",
    "# 사용 예시\n",
    "process_and_match('c_score.csv', 'overlapped2.csv', 'test_result.csv')"
   ]
  },
  {
   "cell_type": "code",
   "execution_count": 12,
   "id": "7f4fe436",
   "metadata": {},
   "outputs": [],
   "source": [
    "def merge_csv(file1_path, file2_path, output_path):\n",
    "    # 두 CSV 파일 읽기\n",
    "    df1 = pd.read_csv(file1_path)\n",
    "    df2 = pd.read_csv(file2_path)\n",
    "\n",
    "    # 두 번째 파일에서 critical_score가 2 이상인 행만 필터링\n",
    "    df2_filtered = df2[df2['critical_score'] >= 2]\n",
    "\n",
    "    # 두 DataFrame을 병합 (중복 제거)\n",
    "    merged_df = pd.concat([df1, df2_filtered]).drop_duplicates(subset=['measure', 'feature'], keep='first')\n",
    "\n",
    "    # 결과를 CSV로 저장\n",
    "    merged_df.to_csv(output_path, index=False)\n",
    "    print(f'Result saved to {output_path}')"
   ]
  },
  {
   "cell_type": "code",
   "execution_count": 13,
   "id": "feebeb46",
   "metadata": {},
   "outputs": [
    {
     "name": "stdout",
     "output_type": "stream",
     "text": [
      "Result saved to test_result2.csv\n"
     ]
    }
   ],
   "source": [
    "\n",
    "# 사용 예시\n",
    "merge_csv('test_result.csv', 'overlapped2.csv', 'test_result2.csv')\n"
   ]
  },
  {
   "cell_type": "code",
   "execution_count": 14,
   "id": "500ee154",
   "metadata": {},
   "outputs": [],
   "source": [
    "def convert_csv(pid_csv, performance_csv, output_csv):\n",
    "    # 파일 읽기\n",
    "    pid_df = pd.read_csv(pid_csv)\n",
    "    performance_df = pd.read_csv(performance_csv)\n",
    "    \n",
    "    # midi_path와 pid를 딕셔너리로 매핑\n",
    "    path_to_pid = dict(zip(pid_df['midi_path'], pid_df['pid']))\n",
    "    \n",
    "    # performance_id를 pid로 변환\n",
    "    performance_df['pid'] = performance_df['performance_id'].map(path_to_pid)\n",
    "    \n",
    "    # 변환 과정: measure, feature, feature_value로 변경\n",
    "    performance_df['measure'] = performance_df['bar'] + 1\n",
    "    performance_df['feature'] = performance_df['feature_idx'] + 1\n",
    "    performance_df['feature_value'] = performance_df['value']\n",
    "    \n",
    "    # 필요한 열 선택 및 순서 지정\n",
    "    result_df = performance_df[['pid', 'measure', 'feature', 'feature_value']]\n",
    "    \n",
    "    # 결과 CSV 파일 저장\n",
    "    result_df.to_csv(output_csv, index=False)\n",
    "    print(f'변환된 데이터가 {output_csv}로 저장되었습니다.')"
   ]
  },
  {
   "cell_type": "code",
   "execution_count": 15,
   "id": "edb80fd7",
   "metadata": {},
   "outputs": [
    {
     "name": "stdout",
     "output_type": "stream",
     "text": [
      "변환된 데이터가 test_result3.csv로 저장되었습니다.\n"
     ]
    }
   ],
   "source": [
    "# 사용 예시\n",
    "convert_csv('pidname.csv', 'concatenated_v1.csv', 'test_result3.csv')"
   ]
  },
  {
   "cell_type": "code",
   "execution_count": 25,
   "id": "acc94277",
   "metadata": {},
   "outputs": [],
   "source": [
    "def compare_csv(performance_csv, guideline_csv, output_csv):\n",
    "    # CSV 파일 읽기\n",
    "    performance_df = pd.read_csv(performance_csv)\n",
    "    guideline_df = pd.read_csv(guideline_csv)\n",
    "    \n",
    "    # pid가 45에서 60 사이인 행만 필터링\n",
    "    filtered_df = performance_df[(performance_df['pid'] >= 45) & (performance_df['pid'] <= 60)]\n",
    "    \n",
    "    # measure와 feature를 기준으로 병합 (right join)\n",
    "    merged_df = pd.merge(filtered_df, guideline_df, on=['measure', 'feature'], how='right')\n",
    "    print(merged_df)\n",
    "    \n",
    "    # difference 계산\n",
    "    merged_df['difference'] = merged_df['feature_value_x'] - merged_df['feature_value_y']\n",
    "    \n",
    "    # 열 이름 변경\n",
    "    merged_df = merged_df.rename(columns={'feature_value_x': 'feature_value','feature_value_y': 'guideline_value', 'critical_score': 'critical_score'})\n",
    "    \n",
    "    # 필요한 열만 선택\n",
    "    result_df = merged_df[['pid', 'measure', 'feature', 'feature_value', 'guideline_value', 'difference', 'critical_score']]\n",
    "    \n",
    "    # 결과 저장\n",
    "    result_df.to_csv(output_csv, index=False)\n",
    "    print(f'비교 결과가 {output_csv}로 저장되었습니다.')"
   ]
  },
  {
   "cell_type": "code",
   "execution_count": 26,
   "id": "bf76fac1",
   "metadata": {},
   "outputs": [
    {
     "name": "stdout",
     "output_type": "stream",
     "text": [
      "       pid  measure  feature  feature_value_x  feature_value_y  critical_score\n",
      "0     54.0        7        4         0.553663         0.666667               1\n",
      "1     53.0        7        4         0.557523         0.666667               1\n",
      "2     55.0        7        4         0.528695         0.666667               1\n",
      "3     59.0        7        4         0.562487         0.666667               1\n",
      "4     60.0        7        4         0.568413         0.666667               1\n",
      "...    ...      ...      ...              ...              ...             ...\n",
      "2852  54.0       70       19         0.494542         1.000000               3\n",
      "2853   NaN       70       23              NaN         1.000000               3\n",
      "2854   NaN       77       23              NaN         1.000000               2\n",
      "2855   NaN       78       23              NaN         1.000000               2\n",
      "2856   NaN       79       20              NaN         0.033333               2\n",
      "\n",
      "[2857 rows x 6 columns]\n",
      "비교 결과가 test_result4.csv로 저장되었습니다.\n"
     ]
    }
   ],
   "source": [
    "# 사용 예시\n",
    "compare_csv('test_result3.csv', 'test_result2.csv', 'test_result4.csv')"
   ]
  },
  {
   "cell_type": "code",
   "execution_count": null,
   "id": "c91308e2",
   "metadata": {},
   "outputs": [],
   "source": []
  }
 ],
 "metadata": {
  "kernelspec": {
   "display_name": "Python 3",
   "language": "python",
   "name": "python3"
  },
  "language_info": {
   "codemirror_mode": {
    "name": "ipython",
    "version": 3
   },
   "file_extension": ".py",
   "mimetype": "text/x-python",
   "name": "python",
   "nbconvert_exporter": "python",
   "pygments_lexer": "ipython3",
   "version": "3.6.9"
  }
 },
 "nbformat": 4,
 "nbformat_minor": 5
}
