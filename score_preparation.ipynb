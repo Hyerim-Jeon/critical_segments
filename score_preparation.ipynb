{
 "cells": [
  {
   "cell_type": "code",
   "execution_count": 1,
   "id": "f58db6e6",
   "metadata": {},
   "outputs": [
    {
     "data": {
      "text/plain": [
       "0"
      ]
     },
     "execution_count": 1,
     "metadata": {},
     "output_type": "execute_result"
    }
   ],
   "source": [
    "import gc\n",
    "gc.collect()"
   ]
  },
  {
   "cell_type": "code",
   "execution_count": 1,
   "id": "d8985f30",
   "metadata": {},
   "outputs": [],
   "source": [
    "import os\n",
    "import verovio\n",
    "\n",
    "def convert_xml_to_mei(input_folder, output_folder):\n",
    "    # Verovio Toolkit 객체 생성\n",
    "    print(\"check1\")\n",
    "    tk = verovio.toolkit()\n",
    "    \n",
    "    error = 0\n",
    "    \n",
    "    print(\"check\")\n",
    "    \n",
    "    # 입력 폴더 내의 파일들 처리\n",
    "    \n",
    "    for filename in os.listdir(input_folder):\n",
    "        print(f\"start {filename}\")\n",
    "        if filename.endswith(\".xml\"):\n",
    "            input_file = os.path.join(input_folder, filename)\n",
    "            output_file = os.path.join(output_folder, filename.replace(\".xml\", \".mei\"))\n",
    "\n",
    "            # XML 파일 로드\n",
    "            with open(input_file, \"r\", encoding=\"utf-8\") as f:\n",
    "                xml_content = f.read()\n",
    "\n",
    "            # Verovio를 사용하여 MEI 파일로 변환\n",
    "            tk.loadData(xml_content)  # XML 데이터를 로드\n",
    "            mei_content = tk.getMEI()  # MEI 형식으로 변환\n",
    "\n",
    "            # 변환된 MEI 파일을 출력 폴더에 저장\n",
    "            with open(output_file, \"w\", encoding=\"utf-8\") as f:\n",
    "                f.write(mei_content)\n",
    "            \n",
    "            print(f\"Converted {filename} to MEI.\")\n",
    "        elif filename.endswith(\".musicxml\"):\n",
    "            input_file = os.path.join(input_folder, filename)\n",
    "            output_file = os.path.join(output_folder, filename.replace(\".musicxml\", \".mei\"))\n",
    "\n",
    "            # XML 파일 로드\n",
    "            with open(input_file, \"r\", encoding=\"utf-8\") as f:\n",
    "                xml_content = f.read()\n",
    "\n",
    "            # Verovio를 사용하여 MEI 파일로 변환\n",
    "            tk.loadData(xml_content)  # XML 데이터를 로드\n",
    "            mei_content = tk.getMEI()  # MEI 형식으로 변환\n",
    "\n",
    "            # 변환된 MEI 파일을 출력 폴더에 저장\n",
    "            with open(output_file, \"w\", encoding=\"utf-8\") as f:\n",
    "                f.write(mei_content)\n",
    "            \n",
    "            print(f\"Converted {filename} to MEI.\")\n",
    "\n",
    "        else:            \n",
    "            print(f\"not xml format: {filename}\")\n",
    "            error += 1\n",
    "\n",
    "        \n",
    "    print(\"complete to convert!\")\n",
    "    print(\"number of error: \"+str(error))\n",
    "\n"
   ]
  },
  {
   "cell_type": "code",
   "execution_count": 2,
   "id": "6ae53ee7",
   "metadata": {},
   "outputs": [],
   "source": [
    "# 실행 경로 설정\n",
    "input_folder = \"./xml_files\"  # XML 파일이 있는 폴더\n",
    "output_folder = \"./mei_files\"  # MEI 파일이 저장될 폴더\n",
    "\n",
    "# 출력 폴더가 없으면 생성\n",
    "if not os.path.exists(output_folder):\n",
    "    os.makedirs(output_folder)\n",
    "\n"
   ]
  },
  {
   "cell_type": "code",
   "execution_count": null,
   "id": "0db67a83",
   "metadata": {},
   "outputs": [],
   "source": [
    "# 변환 함수 실행\n",
    "print(\"check2\")\n",
    "convert_xml_to_mei(input_folder, output_folder)\n"
   ]
  },
  {
   "cell_type": "code",
   "execution_count": null,
   "id": "3c82ecbf",
   "metadata": {},
   "outputs": [],
   "source": []
  }
 ],
 "metadata": {
  "kernelspec": {
   "display_name": "Python 2",
   "language": "python",
   "name": "python2"
  },
  "language_info": {
   "codemirror_mode": {
    "name": "ipython",
    "version": 3
   },
   "file_extension": ".py",
   "mimetype": "text/x-python",
   "name": "python",
   "nbconvert_exporter": "python",
   "pygments_lexer": "ipython3",
   "version": "3.8.14"
  }
 },
 "nbformat": 4,
 "nbformat_minor": 5
}
